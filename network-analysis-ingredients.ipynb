{
 "cells": [
  {
   "cell_type": "code",
   "execution_count": 1,
   "id": "75becbc1",
   "metadata": {
    "_cell_guid": "b1076dfc-b9ad-4769-8c92-a6c4dae69d19",
    "_uuid": "8f2839f25d086af736a60e9eeb907d3b93b6e0e5",
    "execution": {
     "iopub.execute_input": "2022-11-06T12:38:02.473811Z",
     "iopub.status.busy": "2022-11-06T12:38:02.473349Z",
     "iopub.status.idle": "2022-11-06T12:38:02.493495Z",
     "shell.execute_reply": "2022-11-06T12:38:02.492620Z"
    },
    "papermill": {
     "duration": 0.031176,
     "end_time": "2022-11-06T12:38:02.496535",
     "exception": false,
     "start_time": "2022-11-06T12:38:02.465359",
     "status": "completed"
    },
    "tags": []
   },
   "outputs": [
    {
     "name": "stdout",
     "output_type": "stream",
     "text": [
      "/kaggle/input/recipe-ingredients-dataset/train.json\n",
      "/kaggle/input/recipe-ingredients-dataset/test.json\n"
     ]
    }
   ],
   "source": [
    "# This Python 3 environment comes with many helpful analytics libraries installed\n",
    "# It is defined by the kaggle/python Docker image: https://github.com/kaggle/docker-python\n",
    "# For example, here's several helpful packages to load\n",
    "\n",
    "import numpy as np # linear algebra\n",
    "import pandas as pd # data processing, CSV file I/O (e.g. pd.read_csv)\n",
    "\n",
    "# Input data files are available in the read-only \"../input/\" directory\n",
    "# For example, running this (by clicking run or pressing Shift+Enter) will list all files under the input directory\n",
    "\n",
    "import os\n",
    "for dirname, _, filenames in os.walk('/kaggle/input'):\n",
    "    for filename in filenames:\n",
    "        print(os.path.join(dirname, filename))\n",
    "\n",
    "# You can write up to 20GB to the current directory (/kaggle/working/) that gets preserved as output when you create a version using \"Save & Run All\" \n",
    "# You can also write temporary files to /kaggle/temp/, but they won't be saved outside of the current session"
   ]
  },
  {
   "cell_type": "markdown",
   "id": "4976bddd",
   "metadata": {
    "papermill": {
     "duration": 0.004709,
     "end_time": "2022-11-06T12:38:02.506436",
     "exception": false,
     "start_time": "2022-11-06T12:38:02.501727",
     "status": "completed"
    },
    "tags": []
   },
   "source": [
    "# Ingredients Network analysis\n",
    "\n",
    "In this Project we will try to understand basic food combinations.\n",
    "\n",
    "Following features will be identified:\n",
    "\n",
    "---\n",
    "\n",
    "* Base ingredients\n",
    "* Ingredient Combinations\n",
    "* Ingredient Groups\n",
    "\n",
    "## Prepare Data\n",
    "\n",
    "### Load Dataset\n",
    "\n",
    "The first step is of course to load the dataset. Since our data is saved in a .json format. We can either write an parser or directly use pandas `read_json()` method."
   ]
  },
  {
   "cell_type": "code",
   "execution_count": 2,
   "id": "b9f8c0c7",
   "metadata": {
    "execution": {
     "iopub.execute_input": "2022-11-06T12:38:02.518652Z",
     "iopub.status.busy": "2022-11-06T12:38:02.517767Z",
     "iopub.status.idle": "2022-11-06T12:38:03.029405Z",
     "shell.execute_reply": "2022-11-06T12:38:03.028152Z"
    },
    "papermill": {
     "duration": 0.520528,
     "end_time": "2022-11-06T12:38:03.031972",
     "exception": false,
     "start_time": "2022-11-06T12:38:02.511444",
     "status": "completed"
    },
    "tags": []
   },
   "outputs": [
    {
     "data": {
      "text/html": [
       "<div>\n",
       "<style scoped>\n",
       "    .dataframe tbody tr th:only-of-type {\n",
       "        vertical-align: middle;\n",
       "    }\n",
       "\n",
       "    .dataframe tbody tr th {\n",
       "        vertical-align: top;\n",
       "    }\n",
       "\n",
       "    .dataframe thead th {\n",
       "        text-align: right;\n",
       "    }\n",
       "</style>\n",
       "<table border=\"1\" class=\"dataframe\">\n",
       "  <thead>\n",
       "    <tr style=\"text-align: right;\">\n",
       "      <th></th>\n",
       "      <th>id</th>\n",
       "      <th>cuisine</th>\n",
       "      <th>ingredients</th>\n",
       "    </tr>\n",
       "  </thead>\n",
       "  <tbody>\n",
       "    <tr>\n",
       "      <th>0</th>\n",
       "      <td>10259</td>\n",
       "      <td>greek</td>\n",
       "      <td>[romaine lettuce, black olives, grape tomatoes...</td>\n",
       "    </tr>\n",
       "    <tr>\n",
       "      <th>1</th>\n",
       "      <td>25693</td>\n",
       "      <td>southern_us</td>\n",
       "      <td>[plain flour, ground pepper, salt, tomatoes, g...</td>\n",
       "    </tr>\n",
       "    <tr>\n",
       "      <th>2</th>\n",
       "      <td>20130</td>\n",
       "      <td>filipino</td>\n",
       "      <td>[eggs, pepper, salt, mayonaise, cooking oil, g...</td>\n",
       "    </tr>\n",
       "    <tr>\n",
       "      <th>3</th>\n",
       "      <td>22213</td>\n",
       "      <td>indian</td>\n",
       "      <td>[water, vegetable oil, wheat, salt]</td>\n",
       "    </tr>\n",
       "    <tr>\n",
       "      <th>4</th>\n",
       "      <td>13162</td>\n",
       "      <td>indian</td>\n",
       "      <td>[black pepper, shallots, cornflour, cayenne pe...</td>\n",
       "    </tr>\n",
       "  </tbody>\n",
       "</table>\n",
       "</div>"
      ],
      "text/plain": [
       "      id      cuisine                                        ingredients\n",
       "0  10259        greek  [romaine lettuce, black olives, grape tomatoes...\n",
       "1  25693  southern_us  [plain flour, ground pepper, salt, tomatoes, g...\n",
       "2  20130     filipino  [eggs, pepper, salt, mayonaise, cooking oil, g...\n",
       "3  22213       indian                [water, vegetable oil, wheat, salt]\n",
       "4  13162       indian  [black pepper, shallots, cornflour, cayenne pe..."
      ]
     },
     "execution_count": 2,
     "metadata": {},
     "output_type": "execute_result"
    }
   ],
   "source": [
    "data = pd.read_json(\"/kaggle/input/recipe-ingredients-dataset/train.json\")\n",
    "data.head()"
   ]
  },
  {
   "cell_type": "markdown",
   "id": "dad88191",
   "metadata": {
    "papermill": {
     "duration": 0.004692,
     "end_time": "2022-11-06T12:38:03.041855",
     "exception": false,
     "start_time": "2022-11-06T12:38:03.037163",
     "status": "completed"
    },
    "tags": []
   },
   "source": [
    "## "
   ]
  },
  {
   "cell_type": "markdown",
   "id": "e270b4ed",
   "metadata": {
    "papermill": {
     "duration": 0.004619,
     "end_time": "2022-11-06T12:38:03.051532",
     "exception": false,
     "start_time": "2022-11-06T12:38:03.046913",
     "status": "completed"
    },
    "tags": []
   },
   "source": [
    "### Identify all ingredients used\n",
    "\n",
    "Our ingredients column consists of several list representing the ingredients used in each recipe.\n",
    "Here, we can use different approaches to unpack our list and get the unique values, but the easiest by far is just to use the `explode()` method and then call the `unique()` method. "
   ]
  },
  {
   "cell_type": "code",
   "execution_count": 3,
   "id": "153fc155",
   "metadata": {
    "execution": {
     "iopub.execute_input": "2022-11-06T12:38:03.063235Z",
     "iopub.status.busy": "2022-11-06T12:38:03.062803Z",
     "iopub.status.idle": "2022-11-06T12:38:03.157201Z",
     "shell.execute_reply": "2022-11-06T12:38:03.156383Z"
    },
    "papermill": {
     "duration": 0.102896,
     "end_time": "2022-11-06T12:38:03.159311",
     "exception": false,
     "start_time": "2022-11-06T12:38:03.056415",
     "status": "completed"
    },
    "tags": []
   },
   "outputs": [
    {
     "data": {
      "text/plain": [
       "array(['romaine lettuce', 'black olives', 'grape tomatoes', ...,\n",
       "       'lop chong', 'tomato garlic pasta sauce',\n",
       "       'crushed cheese crackers'], dtype=object)"
      ]
     },
     "execution_count": 3,
     "metadata": {},
     "output_type": "execute_result"
    }
   ],
   "source": [
    "ingredients = data.ingredients.explode().unique()\n",
    "ingredients"
   ]
  },
  {
   "cell_type": "markdown",
   "id": "ee3a3175",
   "metadata": {
    "papermill": {
     "duration": 0.004768,
     "end_time": "2022-11-06T12:38:03.169261",
     "exception": false,
     "start_time": "2022-11-06T12:38:03.164493",
     "status": "completed"
    },
    "tags": []
   },
   "source": [
    "### Importance of Ingredients\n",
    "\n",
    "The importance of our ingredients can be identified by the numbers of uses in each recipe. So fo this we will fill a dictionary with the count values of each ingredient in the whole dataset."
   ]
  },
  {
   "cell_type": "code",
   "execution_count": 4,
   "id": "80f9d7d2",
   "metadata": {
    "execution": {
     "iopub.execute_input": "2022-11-06T12:38:03.188605Z",
     "iopub.status.busy": "2022-11-06T12:38:03.187182Z",
     "iopub.status.idle": "2022-11-06T12:38:03.297909Z",
     "shell.execute_reply": "2022-11-06T12:38:03.296732Z"
    },
    "papermill": {
     "duration": 0.123902,
     "end_time": "2022-11-06T12:38:03.300743",
     "exception": false,
     "start_time": "2022-11-06T12:38:03.176841",
     "status": "completed"
    },
    "tags": []
   },
   "outputs": [],
   "source": [
    "recipeIngredients = data.ingredients.explode()\n",
    "recipeIngredients\n",
    "countIngredients = recipeIngredients.value_counts().reset_index()\n",
    "# dfCountIngredients = countIngredients.to_frame()\n",
    "countIngredients = countIngredients.rename(columns = {\"index\":\"Ingredient\", \"ingredients\":\"weight\"})"
   ]
  },
  {
   "cell_type": "code",
   "execution_count": 5,
   "id": "9253cc84",
   "metadata": {
    "execution": {
     "iopub.execute_input": "2022-11-06T12:38:03.313625Z",
     "iopub.status.busy": "2022-11-06T12:38:03.312450Z",
     "iopub.status.idle": "2022-11-06T12:38:03.326065Z",
     "shell.execute_reply": "2022-11-06T12:38:03.324796Z"
    },
    "papermill": {
     "duration": 0.022527,
     "end_time": "2022-11-06T12:38:03.328583",
     "exception": false,
     "start_time": "2022-11-06T12:38:03.306056",
     "status": "completed"
    },
    "tags": []
   },
   "outputs": [
    {
     "data": {
      "text/html": [
       "<div>\n",
       "<style scoped>\n",
       "    .dataframe tbody tr th:only-of-type {\n",
       "        vertical-align: middle;\n",
       "    }\n",
       "\n",
       "    .dataframe tbody tr th {\n",
       "        vertical-align: top;\n",
       "    }\n",
       "\n",
       "    .dataframe thead th {\n",
       "        text-align: right;\n",
       "    }\n",
       "</style>\n",
       "<table border=\"1\" class=\"dataframe\">\n",
       "  <thead>\n",
       "    <tr style=\"text-align: right;\">\n",
       "      <th></th>\n",
       "      <th>Ingredient</th>\n",
       "      <th>weight</th>\n",
       "    </tr>\n",
       "  </thead>\n",
       "  <tbody>\n",
       "    <tr>\n",
       "      <th>0</th>\n",
       "      <td>salt</td>\n",
       "      <td>18049</td>\n",
       "    </tr>\n",
       "    <tr>\n",
       "      <th>1</th>\n",
       "      <td>olive oil</td>\n",
       "      <td>7972</td>\n",
       "    </tr>\n",
       "    <tr>\n",
       "      <th>2</th>\n",
       "      <td>onions</td>\n",
       "      <td>7972</td>\n",
       "    </tr>\n",
       "    <tr>\n",
       "      <th>3</th>\n",
       "      <td>water</td>\n",
       "      <td>7457</td>\n",
       "    </tr>\n",
       "    <tr>\n",
       "      <th>4</th>\n",
       "      <td>garlic</td>\n",
       "      <td>7380</td>\n",
       "    </tr>\n",
       "    <tr>\n",
       "      <th>...</th>\n",
       "      <td>...</td>\n",
       "      <td>...</td>\n",
       "    </tr>\n",
       "    <tr>\n",
       "      <th>6709</th>\n",
       "      <td>sauerkraut juice</td>\n",
       "      <td>1</td>\n",
       "    </tr>\n",
       "    <tr>\n",
       "      <th>6710</th>\n",
       "      <td>no-calorie sweetener</td>\n",
       "      <td>1</td>\n",
       "    </tr>\n",
       "    <tr>\n",
       "      <th>6711</th>\n",
       "      <td>Bob Evans Italian Sausage</td>\n",
       "      <td>1</td>\n",
       "    </tr>\n",
       "    <tr>\n",
       "      <th>6712</th>\n",
       "      <td>extra firm silken tofu</td>\n",
       "      <td>1</td>\n",
       "    </tr>\n",
       "    <tr>\n",
       "      <th>6713</th>\n",
       "      <td>crushed cheese crackers</td>\n",
       "      <td>1</td>\n",
       "    </tr>\n",
       "  </tbody>\n",
       "</table>\n",
       "<p>6714 rows × 2 columns</p>\n",
       "</div>"
      ],
      "text/plain": [
       "                     Ingredient  weight\n",
       "0                          salt   18049\n",
       "1                     olive oil    7972\n",
       "2                        onions    7972\n",
       "3                         water    7457\n",
       "4                        garlic    7380\n",
       "...                         ...     ...\n",
       "6709           sauerkraut juice       1\n",
       "6710       no-calorie sweetener       1\n",
       "6711  Bob Evans Italian Sausage       1\n",
       "6712     extra firm silken tofu       1\n",
       "6713    crushed cheese crackers       1\n",
       "\n",
       "[6714 rows x 2 columns]"
      ]
     },
     "execution_count": 5,
     "metadata": {},
     "output_type": "execute_result"
    }
   ],
   "source": [
    "countIngredients "
   ]
  },
  {
   "cell_type": "markdown",
   "id": "c9cb7094",
   "metadata": {
    "papermill": {
     "duration": 0.005223,
     "end_time": "2022-11-06T12:38:03.339158",
     "exception": false,
     "start_time": "2022-11-06T12:38:03.333935",
     "status": "completed"
    },
    "tags": []
   },
   "source": [
    "### Relationships\n",
    "\n",
    "With our ingredients and weight dataframe we can now start to extract the relationships. Which is essetially the number of times each ingredient was mentioned in a specific recipe."
   ]
  },
  {
   "cell_type": "code",
   "execution_count": 6,
   "id": "538c79df",
   "metadata": {
    "execution": {
     "iopub.execute_input": "2022-11-06T12:38:03.351464Z",
     "iopub.status.busy": "2022-11-06T12:38:03.351049Z",
     "iopub.status.idle": "2022-11-06T12:40:14.377167Z",
     "shell.execute_reply": "2022-11-06T12:40:14.375889Z"
    },
    "papermill": {
     "duration": 131.035459,
     "end_time": "2022-11-06T12:40:14.379936",
     "exception": false,
     "start_time": "2022-11-06T12:38:03.344477",
     "status": "completed"
    },
    "tags": []
   },
   "outputs": [],
   "source": [
    "#for ingre in countIngredients.Ingredient[:1]:\n",
    "    #ingreRela[ingre] = [data.ingredients.apply(lambda x: ingre in x)]\n",
    "    #mask = data.ingredients.apply(lambda x: ingre in x)\n",
    "                       \n",
    "#len(data.ingredients[mask].explode().unique())\n",
    "def getRelationships(data, countIngredients):\n",
    "    masks = []\n",
    "    ingredientsRelations = []\n",
    "    for ingre in countIngredients.Ingredient:\n",
    "        masks.append(data.ingredients.apply(lambda x: ingre in x))\n",
    "    for mask in masks:\n",
    "        ingredientsRelations.append(data.ingredients[mask].explode().unique())\n",
    "    countIngredients [\"Relationships\"] = ingredientsRelations\n",
    "    return countIngredients\n",
    "    \n",
    "dfRelationship = getRelationships(data,countIngredients)"
   ]
  },
  {
   "cell_type": "markdown",
   "id": "50554ff2",
   "metadata": {
    "papermill": {
     "duration": 0.005041,
     "end_time": "2022-11-06T12:40:14.390674",
     "exception": false,
     "start_time": "2022-11-06T12:40:14.385633",
     "status": "completed"
    },
    "tags": []
   },
   "source": [
    "---\n",
    "***To be honest we should have extracted our relationships but looking at the runtime of that code its kinda clear that I used the most ineffcient way there is. If anybody has a better solution pls let me know :)***\n",
    "\n",
    "---\n",
    "\n",
    "### Relationship Graph\n",
    "At this point we are ready to build our networkx graph. To visualize the connection between all the ingredients. We have our Nodes given as our ingredients and our edges will be our extracted Relationships. The weight can be used as sizing factor for our Nodes."
   ]
  },
  {
   "cell_type": "code",
   "execution_count": 7,
   "id": "9427e88e",
   "metadata": {
    "execution": {
     "iopub.execute_input": "2022-11-06T12:40:14.403381Z",
     "iopub.status.busy": "2022-11-06T12:40:14.402950Z",
     "iopub.status.idle": "2022-11-06T12:40:14.428516Z",
     "shell.execute_reply": "2022-11-06T12:40:14.427359Z"
    },
    "papermill": {
     "duration": 0.034887,
     "end_time": "2022-11-06T12:40:14.430984",
     "exception": false,
     "start_time": "2022-11-06T12:40:14.396097",
     "status": "completed"
    },
    "tags": []
   },
   "outputs": [
    {
     "data": {
      "text/html": [
       "<div>\n",
       "<style scoped>\n",
       "    .dataframe tbody tr th:only-of-type {\n",
       "        vertical-align: middle;\n",
       "    }\n",
       "\n",
       "    .dataframe tbody tr th {\n",
       "        vertical-align: top;\n",
       "    }\n",
       "\n",
       "    .dataframe thead th {\n",
       "        text-align: right;\n",
       "    }\n",
       "</style>\n",
       "<table border=\"1\" class=\"dataframe\">\n",
       "  <thead>\n",
       "    <tr style=\"text-align: right;\">\n",
       "      <th></th>\n",
       "      <th>Ingredient</th>\n",
       "      <th>weight</th>\n",
       "      <th>Relationships</th>\n",
       "      <th>count_relationships</th>\n",
       "    </tr>\n",
       "  </thead>\n",
       "  <tbody>\n",
       "    <tr>\n",
       "      <th>0</th>\n",
       "      <td>salt</td>\n",
       "      <td>18049</td>\n",
       "      <td>[plain flour, ground pepper, salt, tomatoes, g...</td>\n",
       "      <td>4880</td>\n",
       "    </tr>\n",
       "    <tr>\n",
       "      <th>1</th>\n",
       "      <td>olive oil</td>\n",
       "      <td>7972</td>\n",
       "      <td>[olive oil, salt, medium shrimp, pepper, garli...</td>\n",
       "      <td>3429</td>\n",
       "    </tr>\n",
       "    <tr>\n",
       "      <th>2</th>\n",
       "      <td>onions</td>\n",
       "      <td>7972</td>\n",
       "      <td>[black pepper, shallots, cornflour, cayenne pe...</td>\n",
       "      <td>3662</td>\n",
       "    </tr>\n",
       "    <tr>\n",
       "      <th>3</th>\n",
       "      <td>water</td>\n",
       "      <td>7457</td>\n",
       "      <td>[water, vegetable oil, wheat, salt, black pepp...</td>\n",
       "      <td>3893</td>\n",
       "    </tr>\n",
       "    <tr>\n",
       "      <th>4</th>\n",
       "      <td>garlic</td>\n",
       "      <td>7380</td>\n",
       "      <td>[romaine lettuce, black olives, grape tomatoes...</td>\n",
       "      <td>3544</td>\n",
       "    </tr>\n",
       "    <tr>\n",
       "      <th>...</th>\n",
       "      <td>...</td>\n",
       "      <td>...</td>\n",
       "      <td>...</td>\n",
       "      <td>...</td>\n",
       "    </tr>\n",
       "    <tr>\n",
       "      <th>6709</th>\n",
       "      <td>sauerkraut juice</td>\n",
       "      <td>1</td>\n",
       "      <td>[parsnips, ground black pepper, vegetable oil,...</td>\n",
       "      <td>20</td>\n",
       "    </tr>\n",
       "    <tr>\n",
       "      <th>6710</th>\n",
       "      <td>no-calorie sweetener</td>\n",
       "      <td>1</td>\n",
       "      <td>[water, lemon slices, tea bags, no-calorie swe...</td>\n",
       "      <td>5</td>\n",
       "    </tr>\n",
       "    <tr>\n",
       "      <th>6711</th>\n",
       "      <td>Bob Evans Italian Sausage</td>\n",
       "      <td>1</td>\n",
       "      <td>[red pepper, Bob Evans Italian Sausage, provol...</td>\n",
       "      <td>7</td>\n",
       "    </tr>\n",
       "    <tr>\n",
       "      <th>6712</th>\n",
       "      <td>extra firm silken tofu</td>\n",
       "      <td>1</td>\n",
       "      <td>[red chili peppers, radishes, ginger, snow pea...</td>\n",
       "      <td>17</td>\n",
       "    </tr>\n",
       "    <tr>\n",
       "      <th>6713</th>\n",
       "      <td>crushed cheese crackers</td>\n",
       "      <td>1</td>\n",
       "      <td>[shredded cheddar cheese, crushed cheese crack...</td>\n",
       "      <td>10</td>\n",
       "    </tr>\n",
       "  </tbody>\n",
       "</table>\n",
       "<p>6714 rows × 4 columns</p>\n",
       "</div>"
      ],
      "text/plain": [
       "                     Ingredient  weight  \\\n",
       "0                          salt   18049   \n",
       "1                     olive oil    7972   \n",
       "2                        onions    7972   \n",
       "3                         water    7457   \n",
       "4                        garlic    7380   \n",
       "...                         ...     ...   \n",
       "6709           sauerkraut juice       1   \n",
       "6710       no-calorie sweetener       1   \n",
       "6711  Bob Evans Italian Sausage       1   \n",
       "6712     extra firm silken tofu       1   \n",
       "6713    crushed cheese crackers       1   \n",
       "\n",
       "                                          Relationships  count_relationships  \n",
       "0     [plain flour, ground pepper, salt, tomatoes, g...                 4880  \n",
       "1     [olive oil, salt, medium shrimp, pepper, garli...                 3429  \n",
       "2     [black pepper, shallots, cornflour, cayenne pe...                 3662  \n",
       "3     [water, vegetable oil, wheat, salt, black pepp...                 3893  \n",
       "4     [romaine lettuce, black olives, grape tomatoes...                 3544  \n",
       "...                                                 ...                  ...  \n",
       "6709  [parsnips, ground black pepper, vegetable oil,...                   20  \n",
       "6710  [water, lemon slices, tea bags, no-calorie swe...                    5  \n",
       "6711  [red pepper, Bob Evans Italian Sausage, provol...                    7  \n",
       "6712  [red chili peppers, radishes, ginger, snow pea...                   17  \n",
       "6713  [shredded cheddar cheese, crushed cheese crack...                   10  \n",
       "\n",
       "[6714 rows x 4 columns]"
      ]
     },
     "execution_count": 7,
     "metadata": {},
     "output_type": "execute_result"
    }
   ],
   "source": [
    "# dfRelationship = data.Relationships.explode()\n",
    "dfRelationship['count_relationships'] = dfRelationship['Relationships'].str.len()\n",
    "\n",
    "dfRelationship"
   ]
  },
  {
   "cell_type": "code",
   "execution_count": 8,
   "id": "24324d1b",
   "metadata": {
    "execution": {
     "iopub.execute_input": "2022-11-06T12:40:14.444028Z",
     "iopub.status.busy": "2022-11-06T12:40:14.443597Z",
     "iopub.status.idle": "2022-11-06T12:40:15.531560Z",
     "shell.execute_reply": "2022-11-06T12:40:15.530361Z"
    },
    "papermill": {
     "duration": 1.097545,
     "end_time": "2022-11-06T12:40:15.534281",
     "exception": false,
     "start_time": "2022-11-06T12:40:14.436736",
     "status": "completed"
    },
    "tags": []
   },
   "outputs": [],
   "source": [
    "import networkx as nx\n",
    "import matplotlib.pyplot as plt\n",
    "\n",
    "# well I lied after looking in the nx docs we first have to unpack our list of relationships\n",
    "\n",
    "dfRelationship.explode(\"Relationships\")\n",
    "\n",
    "## that will make our dataset kinda big so I will remove the salt column (I would prefere removing all spices)\n",
    "    ## but for that I would need a dataset to crossmatch\n",
    "#edgedf = dfRelationship[(dfRelationship.weight < 100)&(dfRelationship.weight > 50)].explode(\"Relationships\")\n",
    "#edgedf = dfRelationship[:20].explode(\"Relationships\")\n",
    "edgedf = dfRelationship[dfRelationship.Ingredient == \"butter\"].explode(\"Relationships\")\n",
    "edgedf = edgedf[edgedf.Ingredient != edgedf.Relationships] ## remove edges from and to same node (salt --> salt)"
   ]
  },
  {
   "cell_type": "code",
   "execution_count": 9,
   "id": "c8a68ae0",
   "metadata": {
    "execution": {
     "iopub.execute_input": "2022-11-06T12:40:15.548290Z",
     "iopub.status.busy": "2022-11-06T12:40:15.547759Z",
     "iopub.status.idle": "2022-11-06T12:40:15.563511Z",
     "shell.execute_reply": "2022-11-06T12:40:15.562377Z"
    },
    "papermill": {
     "duration": 0.025561,
     "end_time": "2022-11-06T12:40:15.565923",
     "exception": false,
     "start_time": "2022-11-06T12:40:15.540362",
     "status": "completed"
    },
    "tags": []
   },
   "outputs": [
    {
     "data": {
      "text/html": [
       "<div>\n",
       "<style scoped>\n",
       "    .dataframe tbody tr th:only-of-type {\n",
       "        vertical-align: middle;\n",
       "    }\n",
       "\n",
       "    .dataframe tbody tr th {\n",
       "        vertical-align: top;\n",
       "    }\n",
       "\n",
       "    .dataframe thead th {\n",
       "        text-align: right;\n",
       "    }\n",
       "</style>\n",
       "<table border=\"1\" class=\"dataframe\">\n",
       "  <thead>\n",
       "    <tr style=\"text-align: right;\">\n",
       "      <th></th>\n",
       "      <th>Ingredient</th>\n",
       "      <th>weight</th>\n",
       "      <th>Relationships</th>\n",
       "      <th>count_relationships</th>\n",
       "    </tr>\n",
       "  </thead>\n",
       "  <tbody>\n",
       "    <tr>\n",
       "      <th>7</th>\n",
       "      <td>butter</td>\n",
       "      <td>4848</td>\n",
       "      <td>eggs</td>\n",
       "      <td>2949</td>\n",
       "    </tr>\n",
       "    <tr>\n",
       "      <th>7</th>\n",
       "      <td>butter</td>\n",
       "      <td>4848</td>\n",
       "      <td>pepper</td>\n",
       "      <td>2949</td>\n",
       "    </tr>\n",
       "    <tr>\n",
       "      <th>7</th>\n",
       "      <td>butter</td>\n",
       "      <td>4848</td>\n",
       "      <td>salt</td>\n",
       "      <td>2949</td>\n",
       "    </tr>\n",
       "    <tr>\n",
       "      <th>7</th>\n",
       "      <td>butter</td>\n",
       "      <td>4848</td>\n",
       "      <td>mayonaise</td>\n",
       "      <td>2949</td>\n",
       "    </tr>\n",
       "    <tr>\n",
       "      <th>7</th>\n",
       "      <td>butter</td>\n",
       "      <td>4848</td>\n",
       "      <td>cooking oil</td>\n",
       "      <td>2949</td>\n",
       "    </tr>\n",
       "    <tr>\n",
       "      <th>...</th>\n",
       "      <td>...</td>\n",
       "      <td>...</td>\n",
       "      <td>...</td>\n",
       "      <td>...</td>\n",
       "    </tr>\n",
       "    <tr>\n",
       "      <th>7</th>\n",
       "      <td>butter</td>\n",
       "      <td>4848</td>\n",
       "      <td>smoked turkey</td>\n",
       "      <td>2949</td>\n",
       "    </tr>\n",
       "    <tr>\n",
       "      <th>7</th>\n",
       "      <td>butter</td>\n",
       "      <td>4848</td>\n",
       "      <td>golden mushroom soup</td>\n",
       "      <td>2949</td>\n",
       "    </tr>\n",
       "    <tr>\n",
       "      <th>7</th>\n",
       "      <td>butter</td>\n",
       "      <td>4848</td>\n",
       "      <td>citrus fruit</td>\n",
       "      <td>2949</td>\n",
       "    </tr>\n",
       "    <tr>\n",
       "      <th>7</th>\n",
       "      <td>butter</td>\n",
       "      <td>4848</td>\n",
       "      <td>sourdough starter</td>\n",
       "      <td>2949</td>\n",
       "    </tr>\n",
       "    <tr>\n",
       "      <th>7</th>\n",
       "      <td>butter</td>\n",
       "      <td>4848</td>\n",
       "      <td>hot tea</td>\n",
       "      <td>2949</td>\n",
       "    </tr>\n",
       "  </tbody>\n",
       "</table>\n",
       "<p>2948 rows × 4 columns</p>\n",
       "</div>"
      ],
      "text/plain": [
       "   Ingredient  weight         Relationships  count_relationships\n",
       "7      butter    4848                  eggs                 2949\n",
       "7      butter    4848                pepper                 2949\n",
       "7      butter    4848                  salt                 2949\n",
       "7      butter    4848             mayonaise                 2949\n",
       "7      butter    4848           cooking oil                 2949\n",
       "..        ...     ...                   ...                  ...\n",
       "7      butter    4848         smoked turkey                 2949\n",
       "7      butter    4848  golden mushroom soup                 2949\n",
       "7      butter    4848          citrus fruit                 2949\n",
       "7      butter    4848     sourdough starter                 2949\n",
       "7      butter    4848               hot tea                 2949\n",
       "\n",
       "[2948 rows x 4 columns]"
      ]
     },
     "execution_count": 9,
     "metadata": {},
     "output_type": "execute_result"
    }
   ],
   "source": [
    "edgedf"
   ]
  },
  {
   "cell_type": "code",
   "execution_count": 10,
   "id": "f1760129",
   "metadata": {
    "execution": {
     "iopub.execute_input": "2022-11-06T12:40:15.580266Z",
     "iopub.status.busy": "2022-11-06T12:40:15.579867Z",
     "iopub.status.idle": "2022-11-06T12:41:09.117502Z",
     "shell.execute_reply": "2022-11-06T12:41:09.116204Z"
    },
    "papermill": {
     "duration": 53.556193,
     "end_time": "2022-11-06T12:41:09.128165",
     "exception": false,
     "start_time": "2022-11-06T12:40:15.571972",
     "status": "completed"
    },
    "tags": []
   },
   "outputs": [
    {
     "data": {
      "image/png": "[encoded data removed]",
      "text/plain": [
       "<Figure size 432x288 with 1 Axes>"
      ]
     },
     "metadata": {},
     "output_type": "display_data"
    }
   ],
   "source": [
    "G = nx.from_pandas_edgelist(edgedf,\"Ingredient\",\"Relationships\")\n",
    "nx.draw(G,with_labels=True)\n",
    "plt.show()"
   ]
  },
  {
   "cell_type": "code",
   "execution_count": 11,
   "id": "a522e9f6",
   "metadata": {
    "execution": {
     "iopub.execute_input": "2022-11-06T12:41:09.143734Z",
     "iopub.status.busy": "2022-11-06T12:41:09.143324Z",
     "iopub.status.idle": "2022-11-06T12:41:26.589913Z",
     "shell.execute_reply": "2022-11-06T12:41:26.588714Z"
    },
    "papermill": {
     "duration": 17.457449,
     "end_time": "2022-11-06T12:41:26.592491",
     "exception": false,
     "start_time": "2022-11-06T12:41:09.135042",
     "status": "completed"
    },
    "tags": []
   },
   "outputs": [
    {
     "name": "stdout",
     "output_type": "stream",
     "text": [
      "Collecting pyvis\r\n",
      "  Downloading pyvis-0.3.0.tar.gz (592 kB)\r\n",
      "\u001b[2K     \u001b[90m━━━━━━━━━━━━━━━━━━━━━━━━━━━━━━━━━━━━━\u001b[0m \u001b[32m592.8/592.8 kB\u001b[0m \u001b[31m820.8 kB/s\u001b[0m eta \u001b[36m0:00:00\u001b[0m\r\n",
      "\u001b[?25h  Preparing metadata (setup.py) ... \u001b[?25l-\b \bdone\r\n",
      "\u001b[?25hRequirement already satisfied: jinja2>=2.9.6 in /opt/conda/lib/python3.7/site-packages (from pyvis) (3.1.2)\r\n",
      "Requirement already satisfied: networkx>=1.11 in /opt/conda/lib/python3.7/site-packages (from pyvis) (2.5)\r\n",
      "Requirement already satisfied: ipython>=5.3.0 in /opt/conda/lib/python3.7/site-packages (from pyvis) (7.33.0)\r\n",
      "Collecting jsonpickle>=1.4.1\r\n",
      "  Downloading jsonpickle-2.2.0-py2.py3-none-any.whl (39 kB)\r\n",
      "Requirement already satisfied: matplotlib-inline in /opt/conda/lib/python3.7/site-packages (from ipython>=5.3.0->pyvis) (0.1.3)\r\n",
      "Requirement already satisfied: prompt-toolkit!=3.0.0,!=3.0.1,<3.1.0,>=2.0.0 in /opt/conda/lib/python3.7/site-packages (from ipython>=5.3.0->pyvis) (3.0.29)\r\n",
      "Requirement already satisfied: pygments in /opt/conda/lib/python3.7/site-packages (from ipython>=5.3.0->pyvis) (2.12.0)\r\n",
      "Requirement already satisfied: traitlets>=4.2 in /opt/conda/lib/python3.7/site-packages (from ipython>=5.3.0->pyvis) (5.2.1.post0)\r\n",
      "Requirement already satisfied: decorator in /opt/conda/lib/python3.7/site-packages (from ipython>=5.3.0->pyvis) (5.1.1)\r\n",
      "Requirement already satisfied: pexpect>4.3 in /opt/conda/lib/python3.7/site-packages (from ipython>=5.3.0->pyvis) (4.8.0)\r\n",
      "Requirement already satisfied: pickleshare in /opt/conda/lib/python3.7/site-packages (from ipython>=5.3.0->pyvis) (0.7.5)\r\n",
      "Requirement already satisfied: jedi>=0.16 in /opt/conda/lib/python3.7/site-packages (from ipython>=5.3.0->pyvis) (0.18.1)\r\n",
      "Requirement already satisfied: backcall in /opt/conda/lib/python3.7/site-packages (from ipython>=5.3.0->pyvis) (0.2.0)\r\n",
      "Requirement already satisfied: setuptools>=18.5 in /opt/conda/lib/python3.7/site-packages (from ipython>=5.3.0->pyvis) (59.8.0)\r\n",
      "Requirement already satisfied: MarkupSafe>=2.0 in /opt/conda/lib/python3.7/site-packages (from jinja2>=2.9.6->pyvis) (2.0.1)\r\n",
      "Requirement already satisfied: importlib-metadata in /opt/conda/lib/python3.7/site-packages (from jsonpickle>=1.4.1->pyvis) (4.12.0)\r\n",
      "Requirement already satisfied: parso<0.9.0,>=0.8.0 in /opt/conda/lib/python3.7/site-packages (from jedi>=0.16->ipython>=5.3.0->pyvis) (0.8.3)\r\n",
      "Requirement already satisfied: ptyprocess>=0.5 in /opt/conda/lib/python3.7/site-packages (from pexpect>4.3->ipython>=5.3.0->pyvis) (0.7.0)\r\n",
      "Requirement already satisfied: wcwidth in /opt/conda/lib/python3.7/site-packages (from prompt-toolkit!=3.0.0,!=3.0.1,<3.1.0,>=2.0.0->ipython>=5.3.0->pyvis) (0.2.5)\r\n",
      "Requirement already satisfied: typing-extensions>=3.6.4 in /opt/conda/lib/python3.7/site-packages (from importlib-metadata->jsonpickle>=1.4.1->pyvis) (4.1.1)\r\n",
      "Requirement already satisfied: zipp>=0.5 in /opt/conda/lib/python3.7/site-packages (from importlib-metadata->jsonpickle>=1.4.1->pyvis) (3.8.0)\r\n",
      "Building wheels for collected packages: pyvis\r\n",
      "  Building wheel for pyvis (setup.py) ... \u001b[?25l-\b \b\\\b \b|\b \bdone\r\n",
      "\u001b[?25h  Created wheel for pyvis: filename=pyvis-0.3.0-py3-none-any.whl size=600250 sha256=8c87d760877cd1113a7bd2bff9b280cf4623699862952bccd034d21560950cc8\r\n",
      "  Stored in directory: /root/.cache/pip/wheels/57/74/32/e404e0d76fbb2dc4e3791b821cfae6a69c1a6677ded99dc8b7\r\n",
      "Successfully built pyvis\r\n",
      "Installing collected packages: jsonpickle, pyvis\r\n",
      "Successfully installed jsonpickle-2.2.0 pyvis-0.3.0\r\n",
      "\u001b[33mWARNING: Running pip as the 'root' user can result in broken permissions and conflicting behaviour with the system package manager. It is recommended to use a virtual environment instead: https://pip.pypa.io/warnings/venv\u001b[0m\u001b[33m\r\n",
      "\u001b[0m"
     ]
    }
   ],
   "source": [
    "!pip install pyvis"
   ]
  },
  {
   "cell_type": "code",
   "execution_count": 12,
   "id": "438f1d3e",
   "metadata": {
    "execution": {
     "iopub.execute_input": "2022-11-06T12:41:26.613171Z",
     "iopub.status.busy": "2022-11-06T12:41:26.612730Z",
     "iopub.status.idle": "2022-11-06T12:41:27.884377Z",
     "shell.execute_reply": "2022-11-06T12:41:27.883127Z"
    },
    "papermill": {
     "duration": 1.28487,
     "end_time": "2022-11-06T12:41:27.886708",
     "exception": false,
     "start_time": "2022-11-06T12:41:26.601838",
     "status": "completed"
    },
    "tags": []
   },
   "outputs": [
    {
     "name": "stdout",
     "output_type": "stream",
     "text": [
      "Local cdn resources have problems on chrome/safari when used in jupyter-notebook. \n"
     ]
    },
    {
     "data": {
      "text/html": [
       "\n",
       "        <iframe\n",
       "            width=\"100%\"\n",
       "            height=\"600px\"\n",
       "            src=\"butter.html\"\n",
       "            frameborder=\"0\"\n",
       "            allowfullscreen\n",
       "            \n",
       "        ></iframe>\n",
       "        "
      ],
      "text/plain": [
       "<IPython.lib.display.IFrame at 0x7f7ae07f0dd0>"
      ]
     },
     "execution_count": 12,
     "metadata": {},
     "output_type": "execute_result"
    }
   ],
   "source": [
    "from pyvis.network import Network\n",
    "\n",
    "net = Network(notebook=True)\n",
    "net.from_nx(G)\n",
    "net.show(\"butter.html\")"
   ]
  },
  {
   "cell_type": "markdown",
   "id": "e49da9e5",
   "metadata": {
    "papermill": {
     "duration": 0.008861,
     "end_time": "2022-11-06T12:41:27.904921",
     "exception": false,
     "start_time": "2022-11-06T12:41:27.896060",
     "status": "completed"
    },
    "tags": []
   },
   "source": [
    "## Conclusion\n",
    "\n",
    "---\n",
    "\n",
    " As we can see here we are able to create a graph but considering the current runtime an improvement of the graph and working with a larger slice of our data is not feasible at that point. Another thing which would be interesting to look at is to introduce group theory, which would help to identify directions of meals and might be perfect for a Food recommendation system\n",
    "\n",
    "---"
   ]
  }
 ],
 "metadata": {
  "kernelspec": {
   "display_name": "Python 3",
   "language": "python",
   "name": "python3"
  },
  "language_info": {
   "codemirror_mode": {
    "name": "ipython",
    "version": 3
   },
   "file_extension": ".py",
   "mimetype": "text/x-python",
   "name": "python",
   "nbconvert_exporter": "python",
   "pygments_lexer": "ipython3",
   "version": "3.7.12"
  },
  "papermill": {
   "default_parameters": {},
   "duration": 215.859042,
   "end_time": "2022-11-06T12:41:28.937549",
   "environment_variables": {},
   "exception": null,
   "input_path": "__notebook__.ipynb",
   "output_path": "__notebook__.ipynb",
   "parameters": {},
   "start_time": "2022-11-06T12:37:53.078507",
   "version": "2.3.4"
  }
 },
 "nbformat": 4,
 "nbformat_minor": 5
}
